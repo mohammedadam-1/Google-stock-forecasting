{
 "cells": [
  {
   "cell_type": "markdown",
   "id": "e022969d",
   "metadata": {},
   "source": [
    "## Time Series Project"
   ]
  },
  {
   "cell_type": "code",
   "execution_count": 3,
   "id": "8ac366dc",
   "metadata": {},
   "outputs": [],
   "source": [
    "import pandas as pd, numpy as np, matplotlib.pyplot as plt, seaborn as sns\n",
    "import yfinance as yf\n",
    "import datetime as dt \n",
    "from datetime import date, timedelta\n",
    "import plotly.graph_objects as go\n",
    "import plotly.express as px\n",
    "from statsmodels.tsa.stattools import adfuller\n",
    "from statsmodels.tsa.seasonal import seasonal_decompose\n",
    "from statsmodels.tsa.statespace.sarimax import SARIMAX\n"
   ]
  },
  {
   "cell_type": "code",
   "execution_count": 4,
   "id": "561919fd",
   "metadata": {},
   "outputs": [
    {
     "data": {
      "text/plain": [
       "datetime.date(2025, 6, 12)"
      ]
     },
     "execution_count": 4,
     "metadata": {},
     "output_type": "execute_result"
    }
   ],
   "source": [
    "date.today()"
   ]
  },
  {
   "cell_type": "code",
   "execution_count": 5,
   "id": "bfabe8dc",
   "metadata": {},
   "outputs": [
    {
     "name": "stdout",
     "output_type": "stream",
     "text": [
      "Start and end dates: 2024-06-12 2025-06-12\n"
     ]
    }
   ],
   "source": [
    "today = date.today()\n",
    "d1 = today.strftime(\"%Y-%m-%d\")\n",
    "end_date = d1\n",
    "d2 = date.today() - timedelta(days=365)\n",
    "d2 = d2.strftime(\"%Y-%m-%d\")\n",
    "start_date = d2\n",
    "print(\"Start and end dates:\", start_date, end_date)"
   ]
  },
  {
   "cell_type": "code",
   "execution_count": 6,
   "id": "d907adc3",
   "metadata": {},
   "outputs": [
    {
     "name": "stdout",
     "output_type": "stream",
     "text": [
      "YF.download() has changed argument auto_adjust default to True\n"
     ]
    },
    {
     "data": {
      "application/vnd.microsoft.datawrangler.viewer.v0+json": {
       "columns": [
        {
         "name": "Date",
         "rawType": "datetime64[ns]",
         "type": "datetime"
        },
        {
         "name": "('Close', 'GOOGL')",
         "rawType": "float64",
         "type": "float"
        },
        {
         "name": "('High', 'GOOGL')",
         "rawType": "float64",
         "type": "float"
        },
        {
         "name": "('Low', 'GOOGL')",
         "rawType": "float64",
         "type": "float"
        },
        {
         "name": "('Open', 'GOOGL')",
         "rawType": "float64",
         "type": "float"
        },
        {
         "name": "('Volume', 'GOOGL')",
         "rawType": "int64",
         "type": "integer"
        }
       ],
       "ref": "1bc98487-d8ff-46af-a343-4b01c3644921",
       "rows": [
        [
         "2024-06-12 00:00:00",
         "176.9329071044922",
         "179.54028699071227",
         "175.26101330132494",
         "177.39069622787167",
         "27864700"
        ],
        [
         "2024-06-13 00:00:00",
         "174.3155975341797",
         "175.88798253947286",
         "174.03694856465734",
         "175.2610147654326",
         "20913300"
        ],
        [
         "2024-06-14 00:00:00",
         "175.93772888183594",
         "176.20643152502393",
         "173.3104563296365",
         "173.38012616444558",
         "18063600"
        ],
        [
         "2024-06-17 00:00:00",
         "176.3855743408203",
         "177.50017023272605",
         "173.96728088613824",
         "174.61415650465722",
         "19618500"
        ],
        [
         "2024-06-18 00:00:00",
         "174.24594116210938",
         "176.53485660451912",
         "173.2607233670443",
         "176.28606177784917",
         "21869900"
        ]
       ],
       "shape": {
        "columns": 5,
        "rows": 5
       }
      },
      "text/html": [
       "<div>\n",
       "<style scoped>\n",
       "    .dataframe tbody tr th:only-of-type {\n",
       "        vertical-align: middle;\n",
       "    }\n",
       "\n",
       "    .dataframe tbody tr th {\n",
       "        vertical-align: top;\n",
       "    }\n",
       "\n",
       "    .dataframe thead tr th {\n",
       "        text-align: left;\n",
       "    }\n",
       "\n",
       "    .dataframe thead tr:last-of-type th {\n",
       "        text-align: right;\n",
       "    }\n",
       "</style>\n",
       "<table border=\"1\" class=\"dataframe\">\n",
       "  <thead>\n",
       "    <tr>\n",
       "      <th>Price</th>\n",
       "      <th>Close</th>\n",
       "      <th>High</th>\n",
       "      <th>Low</th>\n",
       "      <th>Open</th>\n",
       "      <th>Volume</th>\n",
       "    </tr>\n",
       "    <tr>\n",
       "      <th>Ticker</th>\n",
       "      <th>GOOGL</th>\n",
       "      <th>GOOGL</th>\n",
       "      <th>GOOGL</th>\n",
       "      <th>GOOGL</th>\n",
       "      <th>GOOGL</th>\n",
       "    </tr>\n",
       "    <tr>\n",
       "      <th>Date</th>\n",
       "      <th></th>\n",
       "      <th></th>\n",
       "      <th></th>\n",
       "      <th></th>\n",
       "      <th></th>\n",
       "    </tr>\n",
       "  </thead>\n",
       "  <tbody>\n",
       "    <tr>\n",
       "      <th>2024-06-12</th>\n",
       "      <td>176.932907</td>\n",
       "      <td>179.540287</td>\n",
       "      <td>175.261013</td>\n",
       "      <td>177.390696</td>\n",
       "      <td>27864700</td>\n",
       "    </tr>\n",
       "    <tr>\n",
       "      <th>2024-06-13</th>\n",
       "      <td>174.315598</td>\n",
       "      <td>175.887983</td>\n",
       "      <td>174.036949</td>\n",
       "      <td>175.261015</td>\n",
       "      <td>20913300</td>\n",
       "    </tr>\n",
       "    <tr>\n",
       "      <th>2024-06-14</th>\n",
       "      <td>175.937729</td>\n",
       "      <td>176.206432</td>\n",
       "      <td>173.310456</td>\n",
       "      <td>173.380126</td>\n",
       "      <td>18063600</td>\n",
       "    </tr>\n",
       "    <tr>\n",
       "      <th>2024-06-17</th>\n",
       "      <td>176.385574</td>\n",
       "      <td>177.500170</td>\n",
       "      <td>173.967281</td>\n",
       "      <td>174.614157</td>\n",
       "      <td>19618500</td>\n",
       "    </tr>\n",
       "    <tr>\n",
       "      <th>2024-06-18</th>\n",
       "      <td>174.245941</td>\n",
       "      <td>176.534857</td>\n",
       "      <td>173.260723</td>\n",
       "      <td>176.286062</td>\n",
       "      <td>21869900</td>\n",
       "    </tr>\n",
       "  </tbody>\n",
       "</table>\n",
       "</div>"
      ],
      "text/plain": [
       "Price            Close        High         Low        Open    Volume\n",
       "Ticker           GOOGL       GOOGL       GOOGL       GOOGL     GOOGL\n",
       "Date                                                                \n",
       "2024-06-12  176.932907  179.540287  175.261013  177.390696  27864700\n",
       "2024-06-13  174.315598  175.887983  174.036949  175.261015  20913300\n",
       "2024-06-14  175.937729  176.206432  173.310456  173.380126  18063600\n",
       "2024-06-17  176.385574  177.500170  173.967281  174.614157  19618500\n",
       "2024-06-18  174.245941  176.534857  173.260723  176.286062  21869900"
      ]
     },
     "execution_count": 6,
     "metadata": {},
     "output_type": "execute_result"
    }
   ],
   "source": [
    "# define the ticker\n",
    "ticker = \"GOOGL\"\n",
    "df = yf.download(ticker, start=start_date, end=end_date, progress=False)\n",
    "# check the data\n",
    "df.head()"
   ]
  },
  {
   "cell_type": "code",
   "execution_count": 7,
   "id": "b1f84c89",
   "metadata": {},
   "outputs": [
    {
     "name": "stdout",
     "output_type": "stream",
     "text": [
      "<class 'pandas.core.frame.DataFrame'>\n",
      "DatetimeIndex: 250 entries, 2024-06-12 to 2025-06-11\n",
      "Data columns (total 5 columns):\n",
      " #   Column           Non-Null Count  Dtype  \n",
      "---  ------           --------------  -----  \n",
      " 0   (Close, GOOGL)   250 non-null    float64\n",
      " 1   (High, GOOGL)    250 non-null    float64\n",
      " 2   (Low, GOOGL)     250 non-null    float64\n",
      " 3   (Open, GOOGL)    250 non-null    float64\n",
      " 4   (Volume, GOOGL)  250 non-null    int64  \n",
      "dtypes: float64(4), int64(1)\n",
      "memory usage: 11.7 KB\n"
     ]
    }
   ],
   "source": [
    "df.info()"
   ]
  },
  {
   "cell_type": "code",
   "execution_count": 8,
   "id": "38ca8371",
   "metadata": {},
   "outputs": [],
   "source": [
    "df.insert(0, \"Date\", df.index, True)\n",
    "df.reset_index(drop=True, inplace=True)"
   ]
  },
  {
   "cell_type": "code",
   "execution_count": 9,
   "id": "126948e9",
   "metadata": {},
   "outputs": [
    {
     "name": "stdout",
     "output_type": "stream",
     "text": [
      "<class 'pandas.core.frame.DataFrame'>\n",
      "RangeIndex: 250 entries, 0 to 249\n",
      "Data columns (total 6 columns):\n",
      " #   Column           Non-Null Count  Dtype         \n",
      "---  ------           --------------  -----         \n",
      " 0   (Date, )         250 non-null    datetime64[ns]\n",
      " 1   (Close, GOOGL)   250 non-null    float64       \n",
      " 2   (High, GOOGL)    250 non-null    float64       \n",
      " 3   (Low, GOOGL)     250 non-null    float64       \n",
      " 4   (Open, GOOGL)    250 non-null    float64       \n",
      " 5   (Volume, GOOGL)  250 non-null    int64         \n",
      "dtypes: datetime64[ns](1), float64(4), int64(1)\n",
      "memory usage: 11.8 KB\n"
     ]
    }
   ],
   "source": [
    "df.info()"
   ]
  },
  {
   "cell_type": "code",
   "execution_count": 10,
   "id": "cce3ca11",
   "metadata": {},
   "outputs": [
    {
     "data": {
      "application/vnd.microsoft.datawrangler.viewer.v0+json": {
       "columns": [
        {
         "name": "index",
         "rawType": "int64",
         "type": "integer"
        },
        {
         "name": "('Date', '')",
         "rawType": "datetime64[ns]",
         "type": "datetime"
        },
        {
         "name": "('Close', 'GOOGL')",
         "rawType": "float64",
         "type": "float"
        },
        {
         "name": "('High', 'GOOGL')",
         "rawType": "float64",
         "type": "float"
        },
        {
         "name": "('Low', 'GOOGL')",
         "rawType": "float64",
         "type": "float"
        },
        {
         "name": "('Open', 'GOOGL')",
         "rawType": "float64",
         "type": "float"
        },
        {
         "name": "('Volume', 'GOOGL')",
         "rawType": "int64",
         "type": "integer"
        }
       ],
       "ref": "6316e766-a30b-4f96-8512-61aa9f8e6073",
       "rows": [
        [
         "0",
         "2024-06-12 00:00:00",
         "176.9329071044922",
         "179.54028699071227",
         "175.26101330132494",
         "177.39069622787167",
         "27864700"
        ],
        [
         "1",
         "2024-06-13 00:00:00",
         "174.3155975341797",
         "175.88798253947286",
         "174.03694856465734",
         "175.2610147654326",
         "20913300"
        ],
        [
         "2",
         "2024-06-14 00:00:00",
         "175.93772888183594",
         "176.20643152502393",
         "173.3104563296365",
         "173.38012616444558",
         "18063600"
        ],
        [
         "3",
         "2024-06-17 00:00:00",
         "176.3855743408203",
         "177.50017023272605",
         "173.96728088613824",
         "174.61415650465722",
         "19618500"
        ],
        [
         "4",
         "2024-06-18 00:00:00",
         "174.24594116210938",
         "176.53485660451912",
         "173.2607233670443",
         "176.28606177784917",
         "21869900"
        ]
       ],
       "shape": {
        "columns": 6,
        "rows": 5
       }
      },
      "text/html": [
       "<div>\n",
       "<style scoped>\n",
       "    .dataframe tbody tr th:only-of-type {\n",
       "        vertical-align: middle;\n",
       "    }\n",
       "\n",
       "    .dataframe tbody tr th {\n",
       "        vertical-align: top;\n",
       "    }\n",
       "\n",
       "    .dataframe thead tr th {\n",
       "        text-align: left;\n",
       "    }\n",
       "</style>\n",
       "<table border=\"1\" class=\"dataframe\">\n",
       "  <thead>\n",
       "    <tr>\n",
       "      <th>Price</th>\n",
       "      <th>Date</th>\n",
       "      <th>Close</th>\n",
       "      <th>High</th>\n",
       "      <th>Low</th>\n",
       "      <th>Open</th>\n",
       "      <th>Volume</th>\n",
       "    </tr>\n",
       "    <tr>\n",
       "      <th>Ticker</th>\n",
       "      <th></th>\n",
       "      <th>GOOGL</th>\n",
       "      <th>GOOGL</th>\n",
       "      <th>GOOGL</th>\n",
       "      <th>GOOGL</th>\n",
       "      <th>GOOGL</th>\n",
       "    </tr>\n",
       "  </thead>\n",
       "  <tbody>\n",
       "    <tr>\n",
       "      <th>0</th>\n",
       "      <td>2024-06-12</td>\n",
       "      <td>176.932907</td>\n",
       "      <td>179.540287</td>\n",
       "      <td>175.261013</td>\n",
       "      <td>177.390696</td>\n",
       "      <td>27864700</td>\n",
       "    </tr>\n",
       "    <tr>\n",
       "      <th>1</th>\n",
       "      <td>2024-06-13</td>\n",
       "      <td>174.315598</td>\n",
       "      <td>175.887983</td>\n",
       "      <td>174.036949</td>\n",
       "      <td>175.261015</td>\n",
       "      <td>20913300</td>\n",
       "    </tr>\n",
       "    <tr>\n",
       "      <th>2</th>\n",
       "      <td>2024-06-14</td>\n",
       "      <td>175.937729</td>\n",
       "      <td>176.206432</td>\n",
       "      <td>173.310456</td>\n",
       "      <td>173.380126</td>\n",
       "      <td>18063600</td>\n",
       "    </tr>\n",
       "    <tr>\n",
       "      <th>3</th>\n",
       "      <td>2024-06-17</td>\n",
       "      <td>176.385574</td>\n",
       "      <td>177.500170</td>\n",
       "      <td>173.967281</td>\n",
       "      <td>174.614157</td>\n",
       "      <td>19618500</td>\n",
       "    </tr>\n",
       "    <tr>\n",
       "      <th>4</th>\n",
       "      <td>2024-06-18</td>\n",
       "      <td>174.245941</td>\n",
       "      <td>176.534857</td>\n",
       "      <td>173.260723</td>\n",
       "      <td>176.286062</td>\n",
       "      <td>21869900</td>\n",
       "    </tr>\n",
       "  </tbody>\n",
       "</table>\n",
       "</div>"
      ],
      "text/plain": [
       "Price        Date       Close        High         Low        Open    Volume\n",
       "Ticker                  GOOGL       GOOGL       GOOGL       GOOGL     GOOGL\n",
       "0      2024-06-12  176.932907  179.540287  175.261013  177.390696  27864700\n",
       "1      2024-06-13  174.315598  175.887983  174.036949  175.261015  20913300\n",
       "2      2024-06-14  175.937729  176.206432  173.310456  173.380126  18063600\n",
       "3      2024-06-17  176.385574  177.500170  173.967281  174.614157  19618500\n",
       "4      2024-06-18  174.245941  176.534857  173.260723  176.286062  21869900"
      ]
     },
     "execution_count": 10,
     "metadata": {},
     "output_type": "execute_result"
    }
   ],
   "source": [
    "df.head()"
   ]
  },
  {
   "cell_type": "code",
   "execution_count": 11,
   "id": "7c97576c",
   "metadata": {},
   "outputs": [],
   "source": [
    "df.columns = [col[0] for col in df.columns]"
   ]
  },
  {
   "cell_type": "code",
   "execution_count": 12,
   "id": "7f9dae97",
   "metadata": {},
   "outputs": [
    {
     "data": {
      "application/vnd.microsoft.datawrangler.viewer.v0+json": {
       "columns": [
        {
         "name": "index",
         "rawType": "int64",
         "type": "integer"
        },
        {
         "name": "Date",
         "rawType": "datetime64[ns]",
         "type": "datetime"
        },
        {
         "name": "Close",
         "rawType": "float64",
         "type": "float"
        },
        {
         "name": "High",
         "rawType": "float64",
         "type": "float"
        },
        {
         "name": "Low",
         "rawType": "float64",
         "type": "float"
        },
        {
         "name": "Open",
         "rawType": "float64",
         "type": "float"
        },
        {
         "name": "Volume",
         "rawType": "int64",
         "type": "integer"
        }
       ],
       "ref": "f5342a17-9fca-4528-a65a-db12ed8deff4",
       "rows": [
        [
         "0",
         "2024-06-12 00:00:00",
         "176.9329071044922",
         "179.54028699071227",
         "175.26101330132494",
         "177.39069622787167",
         "27864700"
        ],
        [
         "1",
         "2024-06-13 00:00:00",
         "174.3155975341797",
         "175.88798253947286",
         "174.03694856465734",
         "175.2610147654326",
         "20913300"
        ],
        [
         "2",
         "2024-06-14 00:00:00",
         "175.93772888183594",
         "176.20643152502393",
         "173.3104563296365",
         "173.38012616444558",
         "18063600"
        ],
        [
         "3",
         "2024-06-17 00:00:00",
         "176.3855743408203",
         "177.50017023272605",
         "173.96728088613824",
         "174.61415650465722",
         "19618500"
        ],
        [
         "4",
         "2024-06-18 00:00:00",
         "174.24594116210938",
         "176.53485660451912",
         "173.2607233670443",
         "176.28606177784917",
         "21869900"
        ]
       ],
       "shape": {
        "columns": 6,
        "rows": 5
       }
      },
      "text/html": [
       "<div>\n",
       "<style scoped>\n",
       "    .dataframe tbody tr th:only-of-type {\n",
       "        vertical-align: middle;\n",
       "    }\n",
       "\n",
       "    .dataframe tbody tr th {\n",
       "        vertical-align: top;\n",
       "    }\n",
       "\n",
       "    .dataframe thead th {\n",
       "        text-align: right;\n",
       "    }\n",
       "</style>\n",
       "<table border=\"1\" class=\"dataframe\">\n",
       "  <thead>\n",
       "    <tr style=\"text-align: right;\">\n",
       "      <th></th>\n",
       "      <th>Date</th>\n",
       "      <th>Close</th>\n",
       "      <th>High</th>\n",
       "      <th>Low</th>\n",
       "      <th>Open</th>\n",
       "      <th>Volume</th>\n",
       "    </tr>\n",
       "  </thead>\n",
       "  <tbody>\n",
       "    <tr>\n",
       "      <th>0</th>\n",
       "      <td>2024-06-12</td>\n",
       "      <td>176.932907</td>\n",
       "      <td>179.540287</td>\n",
       "      <td>175.261013</td>\n",
       "      <td>177.390696</td>\n",
       "      <td>27864700</td>\n",
       "    </tr>\n",
       "    <tr>\n",
       "      <th>1</th>\n",
       "      <td>2024-06-13</td>\n",
       "      <td>174.315598</td>\n",
       "      <td>175.887983</td>\n",
       "      <td>174.036949</td>\n",
       "      <td>175.261015</td>\n",
       "      <td>20913300</td>\n",
       "    </tr>\n",
       "    <tr>\n",
       "      <th>2</th>\n",
       "      <td>2024-06-14</td>\n",
       "      <td>175.937729</td>\n",
       "      <td>176.206432</td>\n",
       "      <td>173.310456</td>\n",
       "      <td>173.380126</td>\n",
       "      <td>18063600</td>\n",
       "    </tr>\n",
       "    <tr>\n",
       "      <th>3</th>\n",
       "      <td>2024-06-17</td>\n",
       "      <td>176.385574</td>\n",
       "      <td>177.500170</td>\n",
       "      <td>173.967281</td>\n",
       "      <td>174.614157</td>\n",
       "      <td>19618500</td>\n",
       "    </tr>\n",
       "    <tr>\n",
       "      <th>4</th>\n",
       "      <td>2024-06-18</td>\n",
       "      <td>174.245941</td>\n",
       "      <td>176.534857</td>\n",
       "      <td>173.260723</td>\n",
       "      <td>176.286062</td>\n",
       "      <td>21869900</td>\n",
       "    </tr>\n",
       "  </tbody>\n",
       "</table>\n",
       "</div>"
      ],
      "text/plain": [
       "        Date       Close        High         Low        Open    Volume\n",
       "0 2024-06-12  176.932907  179.540287  175.261013  177.390696  27864700\n",
       "1 2024-06-13  174.315598  175.887983  174.036949  175.261015  20913300\n",
       "2 2024-06-14  175.937729  176.206432  173.310456  173.380126  18063600\n",
       "3 2024-06-17  176.385574  177.500170  173.967281  174.614157  19618500\n",
       "4 2024-06-18  174.245941  176.534857  173.260723  176.286062  21869900"
      ]
     },
     "execution_count": 12,
     "metadata": {},
     "output_type": "execute_result"
    }
   ],
   "source": [
    "df.head()"
   ]
  },
  {
   "cell_type": "code",
   "execution_count": 13,
   "id": "b7077555",
   "metadata": {},
   "outputs": [
    {
     "data": {
      "application/vnd.microsoft.datawrangler.viewer.v0+json": {
       "columns": [
        {
         "name": "index",
         "rawType": "int64",
         "type": "integer"
        },
        {
         "name": "Date",
         "rawType": "datetime64[ns]",
         "type": "datetime"
        },
        {
         "name": "Close",
         "rawType": "float64",
         "type": "float"
        }
       ],
       "ref": "6d675719-62ce-43a8-be1f-cc977808bf59",
       "rows": [
        [
         "0",
         "2024-06-12 00:00:00",
         "176.9329071044922"
        ],
        [
         "1",
         "2024-06-13 00:00:00",
         "174.3155975341797"
        ],
        [
         "2",
         "2024-06-14 00:00:00",
         "175.93772888183594"
        ],
        [
         "3",
         "2024-06-17 00:00:00",
         "176.3855743408203"
        ],
        [
         "4",
         "2024-06-18 00:00:00",
         "174.24594116210938"
        ]
       ],
       "shape": {
        "columns": 2,
        "rows": 5
       }
      },
      "text/html": [
       "<div>\n",
       "<style scoped>\n",
       "    .dataframe tbody tr th:only-of-type {\n",
       "        vertical-align: middle;\n",
       "    }\n",
       "\n",
       "    .dataframe tbody tr th {\n",
       "        vertical-align: top;\n",
       "    }\n",
       "\n",
       "    .dataframe thead th {\n",
       "        text-align: right;\n",
       "    }\n",
       "</style>\n",
       "<table border=\"1\" class=\"dataframe\">\n",
       "  <thead>\n",
       "    <tr style=\"text-align: right;\">\n",
       "      <th></th>\n",
       "      <th>Date</th>\n",
       "      <th>Close</th>\n",
       "    </tr>\n",
       "  </thead>\n",
       "  <tbody>\n",
       "    <tr>\n",
       "      <th>0</th>\n",
       "      <td>2024-06-12</td>\n",
       "      <td>176.932907</td>\n",
       "    </tr>\n",
       "    <tr>\n",
       "      <th>1</th>\n",
       "      <td>2024-06-13</td>\n",
       "      <td>174.315598</td>\n",
       "    </tr>\n",
       "    <tr>\n",
       "      <th>2</th>\n",
       "      <td>2024-06-14</td>\n",
       "      <td>175.937729</td>\n",
       "    </tr>\n",
       "    <tr>\n",
       "      <th>3</th>\n",
       "      <td>2024-06-17</td>\n",
       "      <td>176.385574</td>\n",
       "    </tr>\n",
       "    <tr>\n",
       "      <th>4</th>\n",
       "      <td>2024-06-18</td>\n",
       "      <td>174.245941</td>\n",
       "    </tr>\n",
       "  </tbody>\n",
       "</table>\n",
       "</div>"
      ],
      "text/plain": [
       "        Date       Close\n",
       "0 2024-06-12  176.932907\n",
       "1 2024-06-13  174.315598\n",
       "2 2024-06-14  175.937729\n",
       "3 2024-06-17  176.385574\n",
       "4 2024-06-18  174.245941"
      ]
     },
     "execution_count": 13,
     "metadata": {},
     "output_type": "execute_result"
    }
   ],
   "source": [
    "df = df[[\"Date\", \"Close\"]]\n",
    "df.head()"
   ]
  },
  {
   "cell_type": "code",
   "execution_count": 14,
   "id": "fb6e36d2",
   "metadata": {},
   "outputs": [
    {
     "data": {
      "application/vnd.plotly.v1+json": {
       "config": {
        "plotlyServerURL": "https://plot.ly"
       },
       "data": [
        {
         "hovertemplate": "Date=%{x}<br>Close=%{y}<extra></extra>",
         "legendgroup": "",
         "line": {
          "color": "#636efa",
          "dash": "solid"
         },
         "marker": {
          "symbol": "circle"
         },
         "mode": "lines",
         "name": "",
         "orientation": "v",
         "showlegend": false,
         "type": "scatter",
         "x": [
          "2024-06-12T00:00:00.000000000",
          "2024-06-13T00:00:00.000000000",
          "2024-06-14T00:00:00.000000000",
          "2024-06-17T00:00:00.000000000",
          "2024-06-18T00:00:00.000000000",
          "2024-06-20T00:00:00.000000000",
          "2024-06-21T00:00:00.000000000",
          "2024-06-24T00:00:00.000000000",
          "2024-06-25T00:00:00.000000000",
          "2024-06-26T00:00:00.000000000",
          "2024-06-27T00:00:00.000000000",
          "2024-06-28T00:00:00.000000000",
          "2024-07-01T00:00:00.000000000",
          "2024-07-02T00:00:00.000000000",
          "2024-07-03T00:00:00.000000000",
          "2024-07-05T00:00:00.000000000",
          "2024-07-08T00:00:00.000000000",
          "2024-07-09T00:00:00.000000000",
          "2024-07-10T00:00:00.000000000",
          "2024-07-11T00:00:00.000000000",
          "2024-07-12T00:00:00.000000000",
          "2024-07-15T00:00:00.000000000",
          "2024-07-16T00:00:00.000000000",
          "2024-07-17T00:00:00.000000000",
          "2024-07-18T00:00:00.000000000",
          "2024-07-19T00:00:00.000000000",
          "2024-07-22T00:00:00.000000000",
          "2024-07-23T00:00:00.000000000",
          "2024-07-24T00:00:00.000000000",
          "2024-07-25T00:00:00.000000000",
          "2024-07-26T00:00:00.000000000",
          "2024-07-29T00:00:00.000000000",
          "2024-07-30T00:00:00.000000000",
          "2024-07-31T00:00:00.000000000",
          "2024-08-01T00:00:00.000000000",
          "2024-08-02T00:00:00.000000000",
          "2024-08-05T00:00:00.000000000",
          "2024-08-06T00:00:00.000000000",
          "2024-08-07T00:00:00.000000000",
          "2024-08-08T00:00:00.000000000",
          "2024-08-09T00:00:00.000000000",
          "2024-08-12T00:00:00.000000000",
          "2024-08-13T00:00:00.000000000",
          "2024-08-14T00:00:00.000000000",
          "2024-08-15T00:00:00.000000000",
          "2024-08-16T00:00:00.000000000",
          "2024-08-19T00:00:00.000000000",
          "2024-08-20T00:00:00.000000000",
          "2024-08-21T00:00:00.000000000",
          "2024-08-22T00:00:00.000000000",
          "2024-08-23T00:00:00.000000000",
          "2024-08-26T00:00:00.000000000",
          "2024-08-27T00:00:00.000000000",
          "2024-08-28T00:00:00.000000000",
          "2024-08-29T00:00:00.000000000",
          "2024-08-30T00:00:00.000000000",
          "2024-09-03T00:00:00.000000000",
          "2024-09-04T00:00:00.000000000",
          "2024-09-05T00:00:00.000000000",
          "2024-09-06T00:00:00.000000000",
          "2024-09-09T00:00:00.000000000",
          "2024-09-10T00:00:00.000000000",
          "2024-09-11T00:00:00.000000000",
          "2024-09-12T00:00:00.000000000",
          "2024-09-13T00:00:00.000000000",
          "2024-09-16T00:00:00.000000000",
          "2024-09-17T00:00:00.000000000",
          "2024-09-18T00:00:00.000000000",
          "2024-09-19T00:00:00.000000000",
          "2024-09-20T00:00:00.000000000",
          "2024-09-23T00:00:00.000000000",
          "2024-09-24T00:00:00.000000000",
          "2024-09-25T00:00:00.000000000",
          "2024-09-26T00:00:00.000000000",
          "2024-09-27T00:00:00.000000000",
          "2024-09-30T00:00:00.000000000",
          "2024-10-01T00:00:00.000000000",
          "2024-10-02T00:00:00.000000000",
          "2024-10-03T00:00:00.000000000",
          "2024-10-04T00:00:00.000000000",
          "2024-10-07T00:00:00.000000000",
          "2024-10-08T00:00:00.000000000",
          "2024-10-09T00:00:00.000000000",
          "2024-10-10T00:00:00.000000000",
          "2024-10-11T00:00:00.000000000",
          "2024-10-14T00:00:00.000000000",
          "2024-10-15T00:00:00.000000000",
          "2024-10-16T00:00:00.000000000",
          "2024-10-17T00:00:00.000000000",
          "2024-10-18T00:00:00.000000000",
          "2024-10-21T00:00:00.000000000",
          "2024-10-22T00:00:00.000000000",
          "2024-10-23T00:00:00.000000000",
          "2024-10-24T00:00:00.000000000",
          "2024-10-25T00:00:00.000000000",
          "2024-10-28T00:00:00.000000000",
          "2024-10-29T00:00:00.000000000",
          "2024-10-30T00:00:00.000000000",
          "2024-10-31T00:00:00.000000000",
          "2024-11-01T00:00:00.000000000",
          "2024-11-04T00:00:00.000000000",
          "2024-11-05T00:00:00.000000000",
          "2024-11-06T00:00:00.000000000",
          "2024-11-07T00:00:00.000000000",
          "2024-11-08T00:00:00.000000000",
          "2024-11-11T00:00:00.000000000",
          "2024-11-12T00:00:00.000000000",
          "2024-11-13T00:00:00.000000000",
          "2024-11-14T00:00:00.000000000",
          "2024-11-15T00:00:00.000000000",
          "2024-11-18T00:00:00.000000000",
          "2024-11-19T00:00:00.000000000",
          "2024-11-20T00:00:00.000000000",
          "2024-11-21T00:00:00.000000000",
          "2024-11-22T00:00:00.000000000",
          "2024-11-25T00:00:00.000000000",
          "2024-11-26T00:00:00.000000000",
          "2024-11-27T00:00:00.000000000",
          "2024-11-29T00:00:00.000000000",
          "2024-12-02T00:00:00.000000000",
          "2024-12-03T00:00:00.000000000",
          "2024-12-04T00:00:00.000000000",
          "2024-12-05T00:00:00.000000000",
          "2024-12-06T00:00:00.000000000",
          "2024-12-09T00:00:00.000000000",
          "2024-12-10T00:00:00.000000000",
          "2024-12-11T00:00:00.000000000",
          "2024-12-12T00:00:00.000000000",
          "2024-12-13T00:00:00.000000000",
          "2024-12-16T00:00:00.000000000",
          "2024-12-17T00:00:00.000000000",
          "2024-12-18T00:00:00.000000000",
          "2024-12-19T00:00:00.000000000",
          "2024-12-20T00:00:00.000000000",
          "2024-12-23T00:00:00.000000000",
          "2024-12-24T00:00:00.000000000",
          "2024-12-26T00:00:00.000000000",
          "2024-12-27T00:00:00.000000000",
          "2024-12-30T00:00:00.000000000",
          "2024-12-31T00:00:00.000000000",
          "2025-01-02T00:00:00.000000000",
          "2025-01-03T00:00:00.000000000",
          "2025-01-06T00:00:00.000000000",
          "2025-01-07T00:00:00.000000000",
          "2025-01-08T00:00:00.000000000",
          "2025-01-10T00:00:00.000000000",
          "2025-01-13T00:00:00.000000000",
          "2025-01-14T00:00:00.000000000",
          "2025-01-15T00:00:00.000000000",
          "2025-01-16T00:00:00.000000000",
          "2025-01-17T00:00:00.000000000",
          "2025-01-21T00:00:00.000000000",
          "2025-01-22T00:00:00.000000000",
          "2025-01-23T00:00:00.000000000",
          "2025-01-24T00:00:00.000000000",
          "2025-01-27T00:00:00.000000000",
          "2025-01-28T00:00:00.000000000",
          "2025-01-29T00:00:00.000000000",
          "2025-01-30T00:00:00.000000000",
          "2025-01-31T00:00:00.000000000",
          "2025-02-03T00:00:00.000000000",
          "2025-02-04T00:00:00.000000000",
          "2025-02-05T00:00:00.000000000",
          "2025-02-06T00:00:00.000000000",
          "2025-02-07T00:00:00.000000000",
          "2025-02-10T00:00:00.000000000",
          "2025-02-11T00:00:00.000000000",
          "2025-02-12T00:00:00.000000000",
          "2025-02-13T00:00:00.000000000",
          "2025-02-14T00:00:00.000000000",
          "2025-02-18T00:00:00.000000000",
          "2025-02-19T00:00:00.000000000",
          "2025-02-20T00:00:00.000000000",
          "2025-02-21T00:00:00.000000000",
          "2025-02-24T00:00:00.000000000",
          "2025-02-25T00:00:00.000000000",
          "2025-02-26T00:00:00.000000000",
          "2025-02-27T00:00:00.000000000",
          "2025-02-28T00:00:00.000000000",
          "2025-03-03T00:00:00.000000000",
          "2025-03-04T00:00:00.000000000",
          "2025-03-05T00:00:00.000000000",
          "2025-03-06T00:00:00.000000000",
          "2025-03-07T00:00:00.000000000",
          "2025-03-10T00:00:00.000000000",
          "2025-03-11T00:00:00.000000000",
          "2025-03-12T00:00:00.000000000",
          "2025-03-13T00:00:00.000000000",
          "2025-03-14T00:00:00.000000000",
          "2025-03-17T00:00:00.000000000",
          "2025-03-18T00:00:00.000000000",
          "2025-03-19T00:00:00.000000000",
          "2025-03-20T00:00:00.000000000",
          "2025-03-21T00:00:00.000000000",
          "2025-03-24T00:00:00.000000000",
          "2025-03-25T00:00:00.000000000",
          "2025-03-26T00:00:00.000000000",
          "2025-03-27T00:00:00.000000000",
          "2025-03-28T00:00:00.000000000",
          "2025-03-31T00:00:00.000000000",
          "2025-04-01T00:00:00.000000000",
          "2025-04-02T00:00:00.000000000",
          "2025-04-03T00:00:00.000000000",
          "2025-04-04T00:00:00.000000000",
          "2025-04-07T00:00:00.000000000",
          "2025-04-08T00:00:00.000000000",
          "2025-04-09T00:00:00.000000000",
          "2025-04-10T00:00:00.000000000",
          "2025-04-11T00:00:00.000000000",
          "2025-04-14T00:00:00.000000000",
          "2025-04-15T00:00:00.000000000",
          "2025-04-16T00:00:00.000000000",
          "2025-04-17T00:00:00.000000000",
          "2025-04-21T00:00:00.000000000",
          "2025-04-22T00:00:00.000000000",
          "2025-04-23T00:00:00.000000000",
          "2025-04-24T00:00:00.000000000",
          "2025-04-25T00:00:00.000000000",
          "2025-04-28T00:00:00.000000000",
          "2025-04-29T00:00:00.000000000",
          "2025-04-30T00:00:00.000000000",
          "2025-05-01T00:00:00.000000000",
          "2025-05-02T00:00:00.000000000",
          "2025-05-05T00:00:00.000000000",
          "2025-05-06T00:00:00.000000000",
          "2025-05-07T00:00:00.000000000",
          "2025-05-08T00:00:00.000000000",
          "2025-05-09T00:00:00.000000000",
          "2025-05-12T00:00:00.000000000",
          "2025-05-13T00:00:00.000000000",
          "2025-05-14T00:00:00.000000000",
          "2025-05-15T00:00:00.000000000",
          "2025-05-16T00:00:00.000000000",
          "2025-05-19T00:00:00.000000000",
          "2025-05-20T00:00:00.000000000",
          "2025-05-21T00:00:00.000000000",
          "2025-05-22T00:00:00.000000000",
          "2025-05-23T00:00:00.000000000",
          "2025-05-27T00:00:00.000000000",
          "2025-05-28T00:00:00.000000000",
          "2025-05-29T00:00:00.000000000",
          "2025-05-30T00:00:00.000000000",
          "2025-06-02T00:00:00.000000000",
          "2025-06-03T00:00:00.000000000",
          "2025-06-04T00:00:00.000000000",
          "2025-06-05T00:00:00.000000000",
          "2025-06-06T00:00:00.000000000",
          "2025-06-09T00:00:00.000000000",
          "2025-06-10T00:00:00.000000000",
          "2025-06-11T00:00:00.000000000"
         ],
         "xaxis": "x",
         "y": {
          "bdata": "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",
          "dtype": "f8"
         },
         "yaxis": "y"
        }
       ],
       "layout": {
        "legend": {
         "tracegroupgap": 0
        },
        "template": {
         "data": {
          "bar": [
           {
            "error_x": {
             "color": "#2a3f5f"
            },
            "error_y": {
             "color": "#2a3f5f"
            },
            "marker": {
             "line": {
              "color": "#E5ECF6",
              "width": 0.5
             },
             "pattern": {
              "fillmode": "overlay",
              "size": 10,
              "solidity": 0.2
             }
            },
            "type": "bar"
           }
          ],
          "barpolar": [
           {
            "marker": {
             "line": {
              "color": "#E5ECF6",
              "width": 0.5
             },
             "pattern": {
              "fillmode": "overlay",
              "size": 10,
              "solidity": 0.2
             }
            },
            "type": "barpolar"
           }
          ],
          "carpet": [
           {
            "aaxis": {
             "endlinecolor": "#2a3f5f",
             "gridcolor": "white",
             "linecolor": "white",
             "minorgridcolor": "white",
             "startlinecolor": "#2a3f5f"
            },
            "baxis": {
             "endlinecolor": "#2a3f5f",
             "gridcolor": "white",
             "linecolor": "white",
             "minorgridcolor": "white",
             "startlinecolor": "#2a3f5f"
            },
            "type": "carpet"
           }
          ],
          "choropleth": [
           {
            "colorbar": {
             "outlinewidth": 0,
             "ticks": ""
            },
            "type": "choropleth"
           }
          ],
          "contour": [
           {
            "colorbar": {
             "outlinewidth": 0,
             "ticks": ""
            },
            "colorscale": [
             [
              0,
              "#0d0887"
             ],
             [
              0.1111111111111111,
              "#46039f"
             ],
             [
              0.2222222222222222,
              "#7201a8"
             ],
             [
              0.3333333333333333,
              "#9c179e"
             ],
             [
              0.4444444444444444,
              "#bd3786"
             ],
             [
              0.5555555555555556,
              "#d8576b"
             ],
             [
              0.6666666666666666,
              "#ed7953"
             ],
             [
              0.7777777777777778,
              "#fb9f3a"
             ],
             [
              0.8888888888888888,
              "#fdca26"
             ],
             [
              1,
              "#f0f921"
             ]
            ],
            "type": "contour"
           }
          ],
          "contourcarpet": [
           {
            "colorbar": {
             "outlinewidth": 0,
             "ticks": ""
            },
            "type": "contourcarpet"
           }
          ],
          "heatmap": [
           {
            "colorbar": {
             "outlinewidth": 0,
             "ticks": ""
            },
            "colorscale": [
             [
              0,
              "#0d0887"
             ],
             [
              0.1111111111111111,
              "#46039f"
             ],
             [
              0.2222222222222222,
              "#7201a8"
             ],
             [
              0.3333333333333333,
              "#9c179e"
             ],
             [
              0.4444444444444444,
              "#bd3786"
             ],
             [
              0.5555555555555556,
              "#d8576b"
             ],
             [
              0.6666666666666666,
              "#ed7953"
             ],
             [
              0.7777777777777778,
              "#fb9f3a"
             ],
             [
              0.8888888888888888,
              "#fdca26"
             ],
             [
              1,
              "#f0f921"
             ]
            ],
            "type": "heatmap"
           }
          ],
          "histogram": [
           {
            "marker": {
             "pattern": {
              "fillmode": "overlay",
              "size": 10,
              "solidity": 0.2
             }
            },
            "type": "histogram"
           }
          ],
          "histogram2d": [
           {
            "colorbar": {
             "outlinewidth": 0,
             "ticks": ""
            },
            "colorscale": [
             [
              0,
              "#0d0887"
             ],
             [
              0.1111111111111111,
              "#46039f"
             ],
             [
              0.2222222222222222,
              "#7201a8"
             ],
             [
              0.3333333333333333,
              "#9c179e"
             ],
             [
              0.4444444444444444,
              "#bd3786"
             ],
             [
              0.5555555555555556,
              "#d8576b"
             ],
             [
              0.6666666666666666,
              "#ed7953"
             ],
             [
              0.7777777777777778,
              "#fb9f3a"
             ],
             [
              0.8888888888888888,
              "#fdca26"
             ],
             [
              1,
              "#f0f921"
             ]
            ],
            "type": "histogram2d"
           }
          ],
          "histogram2dcontour": [
           {
            "colorbar": {
             "outlinewidth": 0,
             "ticks": ""
            },
            "colorscale": [
             [
              0,
              "#0d0887"
             ],
             [
              0.1111111111111111,
              "#46039f"
             ],
             [
              0.2222222222222222,
              "#7201a8"
             ],
             [
              0.3333333333333333,
              "#9c179e"
             ],
             [
              0.4444444444444444,
              "#bd3786"
             ],
             [
              0.5555555555555556,
              "#d8576b"
             ],
             [
              0.6666666666666666,
              "#ed7953"
             ],
             [
              0.7777777777777778,
              "#fb9f3a"
             ],
             [
              0.8888888888888888,
              "#fdca26"
             ],
             [
              1,
              "#f0f921"
             ]
            ],
            "type": "histogram2dcontour"
           }
          ],
          "mesh3d": [
           {
            "colorbar": {
             "outlinewidth": 0,
             "ticks": ""
            },
            "type": "mesh3d"
           }
          ],
          "parcoords": [
           {
            "line": {
             "colorbar": {
              "outlinewidth": 0,
              "ticks": ""
             }
            },
            "type": "parcoords"
           }
          ],
          "pie": [
           {
            "automargin": true,
            "type": "pie"
           }
          ],
          "scatter": [
           {
            "fillpattern": {
             "fillmode": "overlay",
             "size": 10,
             "solidity": 0.2
            },
            "type": "scatter"
           }
          ],
          "scatter3d": [
           {
            "line": {
             "colorbar": {
              "outlinewidth": 0,
              "ticks": ""
             }
            },
            "marker": {
             "colorbar": {
              "outlinewidth": 0,
              "ticks": ""
             }
            },
            "type": "scatter3d"
           }
          ],
          "scattercarpet": [
           {
            "marker": {
             "colorbar": {
              "outlinewidth": 0,
              "ticks": ""
             }
            },
            "type": "scattercarpet"
           }
          ],
          "scattergeo": [
           {
            "marker": {
             "colorbar": {
              "outlinewidth": 0,
              "ticks": ""
             }
            },
            "type": "scattergeo"
           }
          ],
          "scattergl": [
           {
            "marker": {
             "colorbar": {
              "outlinewidth": 0,
              "ticks": ""
             }
            },
            "type": "scattergl"
           }
          ],
          "scattermap": [
           {
            "marker": {
             "colorbar": {
              "outlinewidth": 0,
              "ticks": ""
             }
            },
            "type": "scattermap"
           }
          ],
          "scattermapbox": [
           {
            "marker": {
             "colorbar": {
              "outlinewidth": 0,
              "ticks": ""
             }
            },
            "type": "scattermapbox"
           }
          ],
          "scatterpolar": [
           {
            "marker": {
             "colorbar": {
              "outlinewidth": 0,
              "ticks": ""
             }
            },
            "type": "scatterpolar"
           }
          ],
          "scatterpolargl": [
           {
            "marker": {
             "colorbar": {
              "outlinewidth": 0,
              "ticks": ""
             }
            },
            "type": "scatterpolargl"
           }
          ],
          "scatterternary": [
           {
            "marker": {
             "colorbar": {
              "outlinewidth": 0,
              "ticks": ""
             }
            },
            "type": "scatterternary"
           }
          ],
          "surface": [
           {
            "colorbar": {
             "outlinewidth": 0,
             "ticks": ""
            },
            "colorscale": [
             [
              0,
              "#0d0887"
             ],
             [
              0.1111111111111111,
              "#46039f"
             ],
             [
              0.2222222222222222,
              "#7201a8"
             ],
             [
              0.3333333333333333,
              "#9c179e"
             ],
             [
              0.4444444444444444,
              "#bd3786"
             ],
             [
              0.5555555555555556,
              "#d8576b"
             ],
             [
              0.6666666666666666,
              "#ed7953"
             ],
             [
              0.7777777777777778,
              "#fb9f3a"
             ],
             [
              0.8888888888888888,
              "#fdca26"
             ],
             [
              1,
              "#f0f921"
             ]
            ],
            "type": "surface"
           }
          ],
          "table": [
           {
            "cells": {
             "fill": {
              "color": "#EBF0F8"
             },
             "line": {
              "color": "white"
             }
            },
            "header": {
             "fill": {
              "color": "#C8D4E3"
             },
             "line": {
              "color": "white"
             }
            },
            "type": "table"
           }
          ]
         },
         "layout": {
          "annotationdefaults": {
           "arrowcolor": "#2a3f5f",
           "arrowhead": 0,
           "arrowwidth": 1
          },
          "autotypenumbers": "strict",
          "coloraxis": {
           "colorbar": {
            "outlinewidth": 0,
            "ticks": ""
           }
          },
          "colorscale": {
           "diverging": [
            [
             0,
             "#8e0152"
            ],
            [
             0.1,
             "#c51b7d"
            ],
            [
             0.2,
             "#de77ae"
            ],
            [
             0.3,
             "#f1b6da"
            ],
            [
             0.4,
             "#fde0ef"
            ],
            [
             0.5,
             "#f7f7f7"
            ],
            [
             0.6,
             "#e6f5d0"
            ],
            [
             0.7,
             "#b8e186"
            ],
            [
             0.8,
             "#7fbc41"
            ],
            [
             0.9,
             "#4d9221"
            ],
            [
             1,
             "#276419"
            ]
           ],
           "sequential": [
            [
             0,
             "#0d0887"
            ],
            [
             0.1111111111111111,
             "#46039f"
            ],
            [
             0.2222222222222222,
             "#7201a8"
            ],
            [
             0.3333333333333333,
             "#9c179e"
            ],
            [
             0.4444444444444444,
             "#bd3786"
            ],
            [
             0.5555555555555556,
             "#d8576b"
            ],
            [
             0.6666666666666666,
             "#ed7953"
            ],
            [
             0.7777777777777778,
             "#fb9f3a"
            ],
            [
             0.8888888888888888,
             "#fdca26"
            ],
            [
             1,
             "#f0f921"
            ]
           ],
           "sequentialminus": [
            [
             0,
             "#0d0887"
            ],
            [
             0.1111111111111111,
             "#46039f"
            ],
            [
             0.2222222222222222,
             "#7201a8"
            ],
            [
             0.3333333333333333,
             "#9c179e"
            ],
            [
             0.4444444444444444,
             "#bd3786"
            ],
            [
             0.5555555555555556,
             "#d8576b"
            ],
            [
             0.6666666666666666,
             "#ed7953"
            ],
            [
             0.7777777777777778,
             "#fb9f3a"
            ],
            [
             0.8888888888888888,
             "#fdca26"
            ],
            [
             1,
             "#f0f921"
            ]
           ]
          },
          "colorway": [
           "#636efa",
           "#EF553B",
           "#00cc96",
           "#ab63fa",
           "#FFA15A",
           "#19d3f3",
           "#FF6692",
           "#B6E880",
           "#FF97FF",
           "#FECB52"
          ],
          "font": {
           "color": "#2a3f5f"
          },
          "geo": {
           "bgcolor": "white",
           "lakecolor": "white",
           "landcolor": "#E5ECF6",
           "showlakes": true,
           "showland": true,
           "subunitcolor": "white"
          },
          "hoverlabel": {
           "align": "left"
          },
          "hovermode": "closest",
          "mapbox": {
           "style": "light"
          },
          "paper_bgcolor": "white",
          "plot_bgcolor": "#E5ECF6",
          "polar": {
           "angularaxis": {
            "gridcolor": "white",
            "linecolor": "white",
            "ticks": ""
           },
           "bgcolor": "#E5ECF6",
           "radialaxis": {
            "gridcolor": "white",
            "linecolor": "white",
            "ticks": ""
           }
          },
          "scene": {
           "xaxis": {
            "backgroundcolor": "#E5ECF6",
            "gridcolor": "white",
            "gridwidth": 2,
            "linecolor": "white",
            "showbackground": true,
            "ticks": "",
            "zerolinecolor": "white"
           },
           "yaxis": {
            "backgroundcolor": "#E5ECF6",
            "gridcolor": "white",
            "gridwidth": 2,
            "linecolor": "white",
            "showbackground": true,
            "ticks": "",
            "zerolinecolor": "white"
           },
           "zaxis": {
            "backgroundcolor": "#E5ECF6",
            "gridcolor": "white",
            "gridwidth": 2,
            "linecolor": "white",
            "showbackground": true,
            "ticks": "",
            "zerolinecolor": "white"
           }
          },
          "shapedefaults": {
           "line": {
            "color": "#2a3f5f"
           }
          },
          "ternary": {
           "aaxis": {
            "gridcolor": "white",
            "linecolor": "white",
            "ticks": ""
           },
           "baxis": {
            "gridcolor": "white",
            "linecolor": "white",
            "ticks": ""
           },
           "bgcolor": "#E5ECF6",
           "caxis": {
            "gridcolor": "white",
            "linecolor": "white",
            "ticks": ""
           }
          },
          "title": {
           "x": 0.05
          },
          "xaxis": {
           "automargin": true,
           "gridcolor": "white",
           "linecolor": "white",
           "ticks": "",
           "title": {
            "standoff": 15
           },
           "zerolinecolor": "white",
           "zerolinewidth": 2
          },
          "yaxis": {
           "automargin": true,
           "gridcolor": "white",
           "linecolor": "white",
           "ticks": "",
           "title": {
            "standoff": 15
           },
           "zerolinecolor": "white",
           "zerolinewidth": 2
          }
         }
        },
        "title": {
         "text": "Google Stock Closing price"
        },
        "xaxis": {
         "anchor": "y",
         "domain": [
          0,
          1
         ],
         "title": {
          "text": "Date"
         }
        },
        "yaxis": {
         "anchor": "x",
         "domain": [
          0,
          1
         ],
         "title": {
          "text": "Close"
         }
        }
       }
      }
     },
     "metadata": {},
     "output_type": "display_data"
    }
   ],
   "source": [
    "fig = px.line(df, x=\"Date\", y=\"Close\", title=\"Google Stock Closing price\")\n",
    "fig.show()"
   ]
  },
  {
   "cell_type": "code",
   "execution_count": 15,
   "id": "69012735",
   "metadata": {},
   "outputs": [
    {
     "name": "stdout",
     "output_type": "stream",
     "text": [
      "ADF Statistic: -2.0452818280495344\n",
      "p-value: 0.26707807926265126\n",
      "The series is not stationary\n"
     ]
    }
   ],
   "source": [
    "from statsmodels.tsa.stattools import adfuller\n",
    "def adf_Test(df):\n",
    "    result = adfuller(df)\n",
    "    print(\"ADF Statistic:\", result[0])\n",
    "    print(\"p-value:\", result[1])\n",
    "    if result[1] <= 0.05:\n",
    "        print(\"The series is stationary\")\n",
    "    else:\n",
    "        print(\"The series is not stationary\")\n",
    "\n",
    "adf_Test(df[\"Close\"])"
   ]
  },
  {
   "cell_type": "code",
   "execution_count": 16,
   "id": "4f3369c4",
   "metadata": {},
   "outputs": [
    {
     "data": {
      "image/png": "[encoded data removed]",
      "text/plain": [
       "<Figure size 640x480 with 4 Axes>"
      ]
     },
     "execution_count": 16,
     "metadata": {},
     "output_type": "execute_result"
    },
    {
     "data": {
      "image/png": "[encoded data removed]",
      "text/plain": [
       "<Figure size 640x480 with 4 Axes>"
      ]
     },
     "metadata": {},
     "output_type": "display_data"
    }
   ],
   "source": [
    "# decompose the data to see the trend, seasonality and residuals\n",
    "from statsmodels.tsa.seasonal import seasonal_decompose\n",
    "decompose = seasonal_decompose(df[\"Close\"], model=\"additive\", period=30)\n",
    "decompose.plot()"
   ]
  },
  {
   "cell_type": "code",
   "execution_count": null,
   "id": "a37a4a36",
   "metadata": {},
   "outputs": [
    {
     "name": "stdout",
     "output_type": "stream",
     "text": [
      "           0\n",
      "0   1.000000\n",
      "1   0.965924\n",
      "2   0.932226\n",
      "3   0.896268\n",
      "4   0.868745\n",
      "5   0.851412\n",
      "6   0.833516\n",
      "7   0.812451\n",
      "8   0.788258\n",
      "9   0.758286\n",
      "10  0.723236\n",
      "11  0.693396\n",
      "12  0.666582\n",
      "13  0.643075\n",
      "14  0.616446\n",
      "15  0.591225\n",
      "16  0.559722\n",
      "17  0.532726\n",
      "18  0.507624\n",
      "19  0.479219\n",
      "20  0.460029\n",
      "21  0.439906\n",
      "22  0.424125\n",
      "23  0.406457\n"
     ]
    }
   ],
   "source": [
    "from statsmodels.graphics.tsaplots import plot_acf, plot_pacf\n",
    "from statsmodels.tsa.stattools import acf, pacf\n",
    "x_acf = pd.DataFrame(acf(df[\"Close\"]))\n",
    "print(x_acf)"
   ]
  },
  {
   "cell_type": "code",
   "execution_count": 18,
   "id": "30bb7873",
   "metadata": {},
   "outputs": [
    {
     "data": {
      "image/png": "[encoded data removed]",
      "text/plain": [
       "<Figure size 640x480 with 1 Axes>"
      ]
     },
     "execution_count": 18,
     "metadata": {},
     "output_type": "execute_result"
    },
    {
     "data": {
      "image/png": "[encoded data removed]",
      "text/plain": [
       "<Figure size 640x480 with 1 Axes>"
      ]
     },
     "metadata": {},
     "output_type": "display_data"
    }
   ],
   "source": [
    "from statsmodels.tsa.stattools import acf, pacf\n",
    "plot_pacf(df[\"Close\"], lags=20, alpha=0.05)\n"
   ]
  },
  {
   "cell_type": "code",
   "execution_count": 19,
   "id": "d0e3682c",
   "metadata": {},
   "outputs": [],
   "source": [
    "from sktime.forecasting.arima import AutoARIMA"
   ]
  },
  {
   "cell_type": "code",
   "execution_count": 37,
   "id": "d0ffd4d6",
   "metadata": {},
   "outputs": [
    {
     "name": "stderr",
     "output_type": "stream",
     "text": [
      "c:\\Users\\DELL\\anaconda3\\envs\\webscraping_env\\lib\\site-packages\\sklearn\\utils\\deprecation.py:151: FutureWarning:\n",
      "\n",
      "'force_all_finite' was renamed to 'ensure_all_finite' in 1.6 and will be removed in 1.8.\n",
      "\n",
      "c:\\Users\\DELL\\anaconda3\\envs\\webscraping_env\\lib\\site-packages\\sklearn\\utils\\deprecation.py:151: FutureWarning:\n",
      "\n",
      "'force_all_finite' was renamed to 'ensure_all_finite' in 1.6 and will be removed in 1.8.\n",
      "\n"
     ]
    },
    {
     "name": "stdout",
     "output_type": "stream",
     "text": [
      "Performing stepwise search to minimize aic\n",
      " ARIMA(1,1,1)(0,0,0)[0] intercept   : AIC=1327.175, Time=0.31 sec\n",
      " ARIMA(0,1,0)(0,0,0)[0] intercept   : AIC=1323.414, Time=0.01 sec\n",
      " ARIMA(1,1,0)(0,0,0)[0] intercept   : AIC=1325.411, Time=0.07 sec\n",
      " ARIMA(0,1,1)(0,0,0)[0] intercept   : AIC=1325.411, Time=0.08 sec\n",
      " ARIMA(0,1,0)(0,0,0)[0]             : AIC=1321.414, Time=0.03 sec\n",
      "\n",
      "Best model:  ARIMA(0,1,0)(0,0,0)[0]          \n",
      "Total fit time: 0.519 seconds\n",
      "                               SARIMAX Results                                \n",
      "==============================================================================\n",
      "Dep. Variable:                      y   No. Observations:                  250\n",
      "Model:               SARIMAX(0, 1, 0)   Log Likelihood                -659.707\n",
      "Date:                Thu, 12 Jun 2025   AIC                           1321.414\n",
      "Time:                        14:09:07   BIC                           1324.931\n",
      "Sample:                             0   HQIC                          1322.830\n",
      "                                - 250                                         \n",
      "Covariance Type:                  opg                                         \n",
      "==============================================================================\n",
      "                 coef    std err          z      P>|z|      [0.025      0.975]\n",
      "------------------------------------------------------------------------------\n",
      "sigma2        11.7162      0.692     16.924      0.000      10.359      13.073\n",
      "===================================================================================\n",
      "Ljung-Box (L1) (Q):                   0.00   Jarque-Bera (JB):                74.84\n",
      "Prob(Q):                              0.96   Prob(JB):                         0.00\n",
      "Heteroskedasticity (H):               1.94   Skew:                            -0.33\n",
      "Prob(H) (two-sided):                  0.00   Kurtosis:                         5.60\n",
      "===================================================================================\n",
      "\n",
      "Warnings:\n",
      "[1] Covariance matrix calculated using the outer product of gradients (complex-step).\n"
     ]
    },
    {
     "name": "stderr",
     "output_type": "stream",
     "text": [
      "c:\\Users\\DELL\\anaconda3\\envs\\webscraping_env\\lib\\site-packages\\sklearn\\utils\\deprecation.py:151: FutureWarning:\n",
      "\n",
      "'force_all_finite' was renamed to 'ensure_all_finite' in 1.6 and will be removed in 1.8.\n",
      "\n",
      "c:\\Users\\DELL\\anaconda3\\envs\\webscraping_env\\lib\\site-packages\\sklearn\\utils\\deprecation.py:151: FutureWarning:\n",
      "\n",
      "'force_all_finite' was renamed to 'ensure_all_finite' in 1.6 and will be removed in 1.8.\n",
      "\n",
      "c:\\Users\\DELL\\anaconda3\\envs\\webscraping_env\\lib\\site-packages\\sklearn\\utils\\deprecation.py:151: FutureWarning:\n",
      "\n",
      "'force_all_finite' was renamed to 'ensure_all_finite' in 1.6 and will be removed in 1.8.\n",
      "\n",
      "c:\\Users\\DELL\\anaconda3\\envs\\webscraping_env\\lib\\site-packages\\sklearn\\utils\\deprecation.py:151: FutureWarning:\n",
      "\n",
      "'force_all_finite' was renamed to 'ensure_all_finite' in 1.6 and will be removed in 1.8.\n",
      "\n"
     ]
    }
   ],
   "source": [
    "model = AutoARIMA(suppress_warnings=True, seasonal=True, start_p=1, max_p=3, start_P=1, start_q=1, max_q=3, d=1, D=1, error_action=\"ignore\", trace=True)\n",
    "model.fit(df[\"Close\"])\n",
    "print(model.summary())"
   ]
  },
  {
   "cell_type": "code",
   "execution_count": 36,
   "id": "15ce6e53",
   "metadata": {},
   "outputs": [
    {
     "name": "stderr",
     "output_type": "stream",
     "text": [
      "c:\\Users\\DELL\\anaconda3\\envs\\webscraping_env\\lib\\site-packages\\sklearn\\utils\\deprecation.py:151: FutureWarning:\n",
      "\n",
      "'force_all_finite' was renamed to 'ensure_all_finite' in 1.6 and will be removed in 1.8.\n",
      "\n",
      "c:\\Users\\DELL\\anaconda3\\envs\\webscraping_env\\lib\\site-packages\\sklearn\\utils\\deprecation.py:151: FutureWarning:\n",
      "\n",
      "'force_all_finite' was renamed to 'ensure_all_finite' in 1.6 and will be removed in 1.8.\n",
      "\n",
      "c:\\Users\\DELL\\anaconda3\\envs\\webscraping_env\\lib\\site-packages\\sklearn\\utils\\deprecation.py:151: FutureWarning:\n",
      "\n",
      "'force_all_finite' was renamed to 'ensure_all_finite' in 1.6 and will be removed in 1.8.\n",
      "\n",
      "c:\\Users\\DELL\\anaconda3\\envs\\webscraping_env\\lib\\site-packages\\sklearn\\utils\\deprecation.py:151: FutureWarning:\n",
      "\n",
      "'force_all_finite' was renamed to 'ensure_all_finite' in 1.6 and will be removed in 1.8.\n",
      "\n",
      "c:\\Users\\DELL\\anaconda3\\envs\\webscraping_env\\lib\\site-packages\\sklearn\\utils\\deprecation.py:151: FutureWarning:\n",
      "\n",
      "'force_all_finite' was renamed to 'ensure_all_finite' in 1.6 and will be removed in 1.8.\n",
      "\n",
      "c:\\Users\\DELL\\anaconda3\\envs\\webscraping_env\\lib\\site-packages\\sklearn\\utils\\deprecation.py:151: FutureWarning:\n",
      "\n",
      "'force_all_finite' was renamed to 'ensure_all_finite' in 1.6 and will be removed in 1.8.\n",
      "\n",
      "c:\\Users\\DELL\\anaconda3\\envs\\webscraping_env\\lib\\site-packages\\sklearn\\utils\\deprecation.py:151: FutureWarning:\n",
      "\n",
      "'force_all_finite' was renamed to 'ensure_all_finite' in 1.6 and will be removed in 1.8.\n",
      "\n",
      "c:\\Users\\DELL\\anaconda3\\envs\\webscraping_env\\lib\\site-packages\\sklearn\\utils\\deprecation.py:151: FutureWarning:\n",
      "\n",
      "'force_all_finite' was renamed to 'ensure_all_finite' in 1.6 and will be removed in 1.8.\n",
      "\n",
      "c:\\Users\\DELL\\anaconda3\\envs\\webscraping_env\\lib\\site-packages\\sklearn\\utils\\deprecation.py:151: FutureWarning:\n",
      "\n",
      "'force_all_finite' was renamed to 'ensure_all_finite' in 1.6 and will be removed in 1.8.\n",
      "\n",
      "c:\\Users\\DELL\\anaconda3\\envs\\webscraping_env\\lib\\site-packages\\sklearn\\utils\\deprecation.py:151: FutureWarning:\n",
      "\n",
      "'force_all_finite' was renamed to 'ensure_all_finite' in 1.6 and will be removed in 1.8.\n",
      "\n",
      "c:\\Users\\DELL\\anaconda3\\envs\\webscraping_env\\lib\\site-packages\\sklearn\\utils\\deprecation.py:151: FutureWarning:\n",
      "\n",
      "'force_all_finite' was renamed to 'ensure_all_finite' in 1.6 and will be removed in 1.8.\n",
      "\n",
      "c:\\Users\\DELL\\anaconda3\\envs\\webscraping_env\\lib\\site-packages\\sklearn\\utils\\deprecation.py:151: FutureWarning:\n",
      "\n",
      "'force_all_finite' was renamed to 'ensure_all_finite' in 1.6 and will be removed in 1.8.\n",
      "\n",
      "c:\\Users\\DELL\\anaconda3\\envs\\webscraping_env\\lib\\site-packages\\sklearn\\utils\\deprecation.py:151: FutureWarning:\n",
      "\n",
      "'force_all_finite' was renamed to 'ensure_all_finite' in 1.6 and will be removed in 1.8.\n",
      "\n"
     ]
    },
    {
     "name": "stdout",
     "output_type": "stream",
     "text": [
      "                               SARIMAX Results                                \n",
      "==============================================================================\n",
      "Dep. Variable:                      y   No. Observations:                  250\n",
      "Model:               SARIMAX(1, 0, 0)   Log Likelihood                -661.163\n",
      "Date:                Thu, 12 Jun 2025   AIC                           1328.326\n",
      "Time:                        14:08:22   BIC                           1338.891\n",
      "Sample:                             0   HQIC                          1332.578\n",
      "                                - 250                                         \n",
      "Covariance Type:                  opg                                         \n",
      "==============================================================================\n",
      "                 coef    std err          z      P>|z|      [0.025      0.975]\n",
      "------------------------------------------------------------------------------\n",
      "intercept      6.2734      2.280      2.751      0.006       1.804      10.743\n",
      "ar.L1          0.9637      0.013     73.353      0.000       0.938       0.989\n",
      "sigma2        11.4826      0.734     15.645      0.000      10.044      12.921\n",
      "===================================================================================\n",
      "Ljung-Box (L1) (Q):                   0.06   Jarque-Bera (JB):                55.36\n",
      "Prob(Q):                              0.81   Prob(JB):                         0.00\n",
      "Heteroskedasticity (H):               1.90   Skew:                            -0.28\n",
      "Prob(H) (two-sided):                  0.00   Kurtosis:                         5.24\n",
      "===================================================================================\n",
      "\n",
      "Warnings:\n",
      "[1] Covariance matrix calculated using the outer product of gradients (complex-step).\n"
     ]
    },
    {
     "name": "stderr",
     "output_type": "stream",
     "text": [
      "c:\\Users\\DELL\\anaconda3\\envs\\webscraping_env\\lib\\site-packages\\sklearn\\utils\\deprecation.py:151: FutureWarning:\n",
      "\n",
      "'force_all_finite' was renamed to 'ensure_all_finite' in 1.6 and will be removed in 1.8.\n",
      "\n"
     ]
    }
   ],
   "source": [
    "model = AutoARIMA(seasonal=True, suppress_warnings=True)\n",
    "model.fit(df[\"Close\"])\n",
    "print(model.summary())"
   ]
  },
  {
   "cell_type": "code",
   "execution_count": 48,
   "id": "d92db3ac",
   "metadata": {},
   "outputs": [
    {
     "name": "stdout",
     "output_type": "stream",
     "text": [
      "                               SARIMAX Results                                \n",
      "==============================================================================\n",
      "Dep. Variable:                  Close   No. Observations:                  250\n",
      "Model:                 ARIMA(2, 1, 2)   Log Likelihood                -656.645\n",
      "Date:                Thu, 12 Jun 2025   AIC                           1323.290\n",
      "Time:                        15:35:35   BIC                           1340.877\n",
      "Sample:                             0   HQIC                          1330.369\n",
      "                                - 250                                         \n",
      "Covariance Type:                  opg                                         \n",
      "==============================================================================\n",
      "                 coef    std err          z      P>|z|      [0.025      0.975]\n",
      "------------------------------------------------------------------------------\n",
      "ar.L1         -0.6031      0.144     -4.197      0.000      -0.885      -0.321\n",
      "ar.L2         -0.7535      0.169     -4.446      0.000      -1.086      -0.421\n",
      "ma.L1          0.5979      0.120      5.001      0.000       0.364       0.832\n",
      "ma.L2          0.8495      0.144      5.916      0.000       0.568       1.131\n",
      "sigma2        11.4239      0.745     15.334      0.000       9.964      12.884\n",
      "===================================================================================\n",
      "Ljung-Box (L1) (Q):                   0.02   Jarque-Bera (JB):                63.97\n",
      "Prob(Q):                              0.88   Prob(JB):                         0.00\n",
      "Heteroskedasticity (H):               1.83   Skew:                            -0.34\n",
      "Prob(H) (two-sided):                  0.01   Kurtosis:                         5.39\n",
      "===================================================================================\n",
      "\n",
      "Warnings:\n",
      "[1] Covariance matrix calculated using the outer product of gradients (complex-step).\n"
     ]
    },
    {
     "data": {
      "text/plain": [
       "[<matplotlib.lines.Line2D at 0x2009e623ca0>]"
      ]
     },
     "execution_count": 48,
     "metadata": {},
     "output_type": "execute_result"
    },
    {
     "data": {
      "image/png": "[encoded data removed]",
      "text/plain": [
       "<Figure size 1000x500 with 1 Axes>"
      ]
     },
     "metadata": {},
     "output_type": "display_data"
    }
   ],
   "source": [
    "from statsmodels.tsa.arima.model import ARIMA\n",
    "p, d, q = 2, 1, 2\n",
    "\n",
    "model = ARIMA(df[\"Close\"], order=(p,d,q))\n",
    "model = model.fit()\n",
    "print(model.summary())\n",
    "\n",
    "# predict next 30 days\n",
    "forecast = model.predict(n_periods=30)\n",
    "\n",
    "# plot forecast\n",
    "plt.figure(figsize=(10, 5))\n",
    "plt.plot(df[\"Close\"], label = \"Actual\")\n",
    "plt.plot(forecast, label = \"Forecast\", color=\"red\")"
   ]
  },
  {
   "cell_type": "code",
   "execution_count": 49,
   "id": "471d4eda",
   "metadata": {},
   "outputs": [
    {
     "name": "stderr",
     "output_type": "stream",
     "text": [
      "c:\\Users\\DELL\\anaconda3\\envs\\webscraping_env\\lib\\site-packages\\statsmodels\\base\\model.py:607: ConvergenceWarning:\n",
      "\n",
      "Maximum Likelihood optimization failed to converge. Check mle_retvals\n",
      "\n"
     ]
    },
    {
     "name": "stdout",
     "output_type": "stream",
     "text": [
      "                                     SARIMAX Results                                      \n",
      "==========================================================================================\n",
      "Dep. Variable:                              Close   No. Observations:                  250\n",
      "Model:             SARIMAX(2, 1, 2)x(2, 1, 2, 12)   Log Likelihood                -637.670\n",
      "Date:                            Thu, 12 Jun 2025   AIC                           1293.341\n",
      "Time:                                    15:44:15   BIC                           1324.553\n",
      "Sample:                                         0   HQIC                          1305.921\n",
      "                                            - 250                                         \n",
      "Covariance Type:                              opg                                         \n",
      "==============================================================================\n",
      "                 coef    std err          z      P>|z|      [0.025      0.975]\n",
      "------------------------------------------------------------------------------\n",
      "ar.L1         -0.6106      0.099     -6.189      0.000      -0.804      -0.417\n",
      "ar.L2         -0.8275      0.088     -9.417      0.000      -1.000      -0.655\n",
      "ma.L1          0.5911      0.071      8.312      0.000       0.452       0.731\n",
      "ma.L2          0.9175      0.064     14.301      0.000       0.792       1.043\n",
      "ar.S.L12      -0.3603      0.810     -0.445      0.657      -1.948       1.228\n",
      "ar.S.L24       0.0610      0.190      0.320      0.749      -0.312       0.434\n",
      "ma.S.L12      -0.6593      0.801     -0.823      0.410      -2.229       0.910\n",
      "ma.S.L24      -0.2037      0.662     -0.308      0.758      -1.501       1.093\n",
      "sigma2        11.7561      1.007     11.676      0.000       9.783      13.730\n",
      "===================================================================================\n",
      "Ljung-Box (L1) (Q):                   0.03   Jarque-Bera (JB):                40.96\n",
      "Prob(Q):                              0.86   Prob(JB):                         0.00\n",
      "Heteroskedasticity (H):               2.41   Skew:                            -0.31\n",
      "Prob(H) (two-sided):                  0.00   Kurtosis:                         4.94\n",
      "===================================================================================\n",
      "\n",
      "Warnings:\n",
      "[1] Covariance matrix calculated using the outer product of gradients (complex-step).\n"
     ]
    }
   ],
   "source": [
    "import statsmodels.api as sm\n",
    "import warnings\n",
    "\n",
    "p,d,q = 2,1,2\n",
    "\n",
    "model = sm.tsa.statespace.SARIMAX(df[\"Close\"], order=(p,d,q), seasonal_order=(p,d,q,12))\n",
    "model = model.fit()\n",
    "print(model.summary())"
   ]
  },
  {
   "cell_type": "code",
   "execution_count": 51,
   "id": "59ae715a",
   "metadata": {},
   "outputs": [
    {
     "data": {
      "image/png": "[encoded data removed]",
      "text/plain": [
       "<Figure size 1000x500 with 1 Axes>"
      ]
     },
     "metadata": {},
     "output_type": "display_data"
    }
   ],
   "source": [
    "prediction = model.predict(start=len(df[\"Close\"]), end=len(df[\"Close\"])+10)\n",
    "plt.figure(figsize=(10, 5))\n",
    "plt.plot(df[\"Close\"], label=\"Actual\")\n",
    "plt.plot(prediction, label=\"Forecast\", color=\"red\")\n",
    "plt.xlabel(\"Date\")\n",
    "plt.ylabel(\"Price\")\n",
    "plt.title(\"Google Closing Price\")\n",
    "\n",
    "# change legend location\n",
    "plt.legend(loc=\"upper left\")\n",
    "plt.show()"
   ]
  },
  {
   "cell_type": "code",
   "execution_count": null,
   "id": "01924715",
   "metadata": {},
   "outputs": [],
   "source": []
  }
 ],
 "metadata": {
  "kernelspec": {
   "display_name": "webscraping_env",
   "language": "python",
   "name": "python3"
  },
  "language_info": {
   "codemirror_mode": {
    "name": "ipython",
    "version": 3
   },
   "file_extension": ".py",
   "mimetype": "text/x-python",
   "name": "python",
   "nbconvert_exporter": "python",
   "pygments_lexer": "ipython3",
   "version": "3.10.16"
  }
 },
 "nbformat": 4,
 "nbformat_minor": 5
}
